{
 "cells": [
  {
   "cell_type": "code",
   "execution_count": 6,
   "id": "95aaa4fd",
   "metadata": {},
   "outputs": [],
   "source": [
    "import numpy as np\n",
    "import pandas as pd\n",
    "import seaborn as sns\n",
    "import matplotlib.pyplot as plt\n",
    "%matplotlib inline\n",
    "plt.rcParams['figure.figsize'] = (16, 9)\n",
    "plt.style.use('ggplot')\n",
    "\n",
    "\n",
    "import nltk\n",
    "import string\n",
    "from nltk.tokenize import word_tokenize\n",
    "import re\n",
    "from nltk.corpus import stopwords\n",
    "from nltk.stem.wordnet import WordNetLemmatizer\n",
    "from sklearn.feature_extraction.text import TfidfVectorizer\n",
    "\n",
    "from sklearn.decomposition import TruncatedSVD\n",
    "\n",
    "from sklearn.linear_model import LogisticRegression\n",
    "from sklearn.tree import DecisionTreeClassifier\n",
    "from sklearn.ensemble import RandomForestClassifier\n",
    "import lightgbm as ltb\n",
    "from sklearn.naive_bayes import GaussianNB\n",
    "from sklearn.svm import SVC\n",
    "\n",
    "from sklearn.model_selection import GridSearchCV\n",
    "\n",
    "from sklearn.metrics import accuracy_score "
   ]
  },
  {
   "cell_type": "code",
   "execution_count": 17,
   "id": "95ea82f3",
   "metadata": {},
   "outputs": [],
   "source": [
    "# import the csv files\n",
    "\n",
    "df = pd.read_csv(\"E:/examen tecnico/Sentiment analysis csv/Train.csv\")\n",
    "test = pd.read_csv(\"E:/examen tecnico/Sentiment analysis csv/Test.csv\")"
   ]
  },
  {
   "cell_type": "code",
   "execution_count": 4,
   "id": "71a98429",
   "metadata": {},
   "outputs": [
    {
     "data": {
      "text/html": [
       "<div>\n",
       "<style scoped>\n",
       "    .dataframe tbody tr th:only-of-type {\n",
       "        vertical-align: middle;\n",
       "    }\n",
       "\n",
       "    .dataframe tbody tr th {\n",
       "        vertical-align: top;\n",
       "    }\n",
       "\n",
       "    .dataframe thead th {\n",
       "        text-align: right;\n",
       "    }\n",
       "</style>\n",
       "<table border=\"1\" class=\"dataframe\">\n",
       "  <thead>\n",
       "    <tr style=\"text-align: right;\">\n",
       "      <th></th>\n",
       "      <th>text</th>\n",
       "      <th>label</th>\n",
       "    </tr>\n",
       "  </thead>\n",
       "  <tbody>\n",
       "    <tr>\n",
       "      <th>0</th>\n",
       "      <td>I grew up (b. 1965) watching and loving the Th...</td>\n",
       "      <td>0</td>\n",
       "    </tr>\n",
       "    <tr>\n",
       "      <th>1</th>\n",
       "      <td>When I put this movie in my DVD player, and sa...</td>\n",
       "      <td>0</td>\n",
       "    </tr>\n",
       "    <tr>\n",
       "      <th>2</th>\n",
       "      <td>Why do people who do not know what a particula...</td>\n",
       "      <td>0</td>\n",
       "    </tr>\n",
       "    <tr>\n",
       "      <th>3</th>\n",
       "      <td>Even though I have great interest in Biblical ...</td>\n",
       "      <td>0</td>\n",
       "    </tr>\n",
       "    <tr>\n",
       "      <th>4</th>\n",
       "      <td>Im a die hard Dads Army fan and nothing will e...</td>\n",
       "      <td>1</td>\n",
       "    </tr>\n",
       "  </tbody>\n",
       "</table>\n",
       "</div>"
      ],
      "text/plain": [
       "                                                text  label\n",
       "0  I grew up (b. 1965) watching and loving the Th...      0\n",
       "1  When I put this movie in my DVD player, and sa...      0\n",
       "2  Why do people who do not know what a particula...      0\n",
       "3  Even though I have great interest in Biblical ...      0\n",
       "4  Im a die hard Dads Army fan and nothing will e...      1"
      ]
     },
     "execution_count": 4,
     "metadata": {},
     "output_type": "execute_result"
    }
   ],
   "source": [
    "df.head()"
   ]
  },
  {
   "cell_type": "code",
   "execution_count": 5,
   "id": "a73d915f",
   "metadata": {},
   "outputs": [
    {
     "name": "stdout",
     "output_type": "stream",
     "text": [
      "<class 'pandas.core.frame.DataFrame'>\n",
      "RangeIndex: 40000 entries, 0 to 39999\n",
      "Data columns (total 2 columns):\n",
      " #   Column  Non-Null Count  Dtype \n",
      "---  ------  --------------  ----- \n",
      " 0   text    40000 non-null  object\n",
      " 1   label   40000 non-null  int64 \n",
      "dtypes: int64(1), object(1)\n",
      "memory usage: 625.1+ KB\n"
     ]
    }
   ],
   "source": [
    "#The dataset it's divided into two different columns, \"text\" that has the review \n",
    "#and \"label\" an int 1 or 0 that makes the review a good(1) or bad (0)\n",
    "df.info()"
   ]
  },
  {
   "cell_type": "code",
   "execution_count": 42,
   "id": "96a79bf9",
   "metadata": {},
   "outputs": [
    {
     "data": {
      "image/png": "[encoded data removed]",
      "text/plain": [
       "<Figure size 500x500 with 1 Axes>"
      ]
     },
     "metadata": {},
     "output_type": "display_data"
    }
   ],
   "source": [
    "#it's a 50/50 distribution thing that makes better the acuracy for the NLP (natural languange processing) model\n",
    "fig=plt.figure(figsize=(5,5))\n",
    "colors=[\"skyblue\",'pink']\n",
    "pos=df[df['label']==1]\n",
    "neg=df[df['label']==0]\n",
    "ck=[pos['label'].count(),neg['label'].count()]\n",
    "legpie=plt.pie(ck,labels=[\"Positive\",\"Negative\"],\n",
    "                 autopct ='%1.1f%%', \n",
    "                 shadow = True,\n",
    "                 colors = colors,\n",
    "                 startangle = 45,\n",
    "                 explode=(0, 0.1))"
   ]
  },
  {
   "cell_type": "code",
   "execution_count": 9,
   "id": "0b121e37",
   "metadata": {},
   "outputs": [
    {
     "data": {
      "text/plain": [
       "0    I grew up (b. 1965) watching and loving the Th...\n",
       "1    When I put this movie in my DVD player, and sa...\n",
       "2    Why do people who do not know what a particula...\n",
       "3    Even though I have great interest in Biblical ...\n",
       "4    Im a die hard Dads Army fan and nothing will e...\n",
       "Name: text, dtype: object"
      ]
     },
     "execution_count": 9,
     "metadata": {},
     "output_type": "execute_result"
    }
   ],
   "source": [
    "#as we can see the reviews have uppercase and other punctuations that will make the NLP fail, so we need to preprocess the text\n",
    "df['text'].head()"
   ]
  },
  {
   "cell_type": "code",
   "execution_count": 12,
   "id": "87fdb607",
   "metadata": {},
   "outputs": [],
   "source": [
    "# we create a function that will clean the reviews and make them better for the NLP process\n",
    "def cleaning (text):\n",
    "    text = text.lower() #only lowercases\n",
    "    text =  re.sub(r'@\\S+', '',text)  # remove twitter handles\n",
    "    text =  re.sub(r'http\\S+', '',text) # remove urls\n",
    "    text =  re.sub(r'pic.\\S+', '',text)\n",
    "    text =  re.sub(r\"[^a-zA-ZáéíóúÁÉÍÓÚ']\", ' ',text) # only keeps characters\n",
    "    text =  re.sub(r'\\s+[a-zA-ZáéíóúÁÉÍÓÚ]\\s+', ' ', text+' ')  # keep words with length>1 only\n",
    "    text = \"\".join([i for i in text if i not in string.punctuation])\n",
    "    words = word_tokenize(text)\n",
    "    stopwords = nltk.corpus.stopwords.words('english')   # remove stopwords\n",
    "    text = \" \".join([i for i in words if i not in stopwords])\n",
    "    text= re.sub(\"\\s[\\s]+\", \" \",text).strip()\n",
    "    text= re.sub(\"\\s[\\s]+\", \" \",text).strip() # remove repeated/leading/trailing spaces\n",
    "    return text"
   ]
  },
  {
   "cell_type": "code",
   "execution_count": 15,
   "id": "8af1d17c",
   "metadata": {},
   "outputs": [],
   "source": [
    "# Lemmatization is a text pre-processing technique used in NLP models to break a word \n",
    "# down to its root meaning to identify similarities.\n",
    "\n",
    "def lemm(data):\n",
    "    wordnet = WordNetLemmatizer()\n",
    "    lemmanized = []\n",
    "    for i in range(len(data)):\n",
    "        lemmed = []\n",
    "        words = word_tokenize(data['text'].iloc[i])\n",
    "        for w in words:\n",
    "            lemmed.append(wordnet.lemmatize(w))\n",
    "        lemmanized.append(lemmed)\n",
    "\n",
    "    data['lemmanized'] = lemmanized\n",
    "    data['text'] = data['lemmanized'].apply(' '.join)\n",
    "    data=data.drop(\"lemmanized\",axis=1)\n",
    "    return data"
   ]
  },
  {
   "cell_type": "code",
   "execution_count": 19,
   "id": "d8016cf7",
   "metadata": {},
   "outputs": [
    {
     "name": "stdout",
     "output_type": "stream",
     "text": [
      "cleaning the reviews...\n",
      "1/2...\n",
      "Process ended.\n"
     ]
    }
   ],
   "source": [
    "# we clean all the dataset reviews using the previous function\n",
    "\n",
    "print(\"cleaning the reviews...\")\n",
    "df[\"text\"]=df[\"text\"].apply(cleaning)\n",
    "print(\"1/2...\")\n",
    "test[\"text\"]=test[\"text\"].apply(cleaning)\n",
    "print(\"Process ended.\")"
   ]
  },
  {
   "cell_type": "code",
   "execution_count": 20,
   "id": "e3d2a534",
   "metadata": {},
   "outputs": [
    {
     "data": {
      "text/plain": [
       "0    grew watching loving thunderbirds mates school...\n",
       "1    put movie dvd player sat coke chips expectatio...\n",
       "2    people know particular time past like feel nee...\n",
       "3    even though great interest biblical movies bor...\n",
       "4    im die hard dads army fan nothing ever change ...\n",
       "Name: text, dtype: object"
      ]
     },
     "execution_count": 20,
     "metadata": {},
     "output_type": "execute_result"
    }
   ],
   "source": [
    "# now we can see that the text is completely clean for the process\n",
    "df['text'].head()"
   ]
  },
  {
   "cell_type": "code",
   "execution_count": 21,
   "id": "aca0b373",
   "metadata": {},
   "outputs": [
    {
     "name": "stdout",
     "output_type": "stream",
     "text": [
      "Appliying the Lemmatization...\n",
      "1/2...\n",
      "process ended\n"
     ]
    }
   ],
   "source": [
    "# apply it to the datasets\n",
    "\n",
    "print(\"Appliying the Lemmatization...\")\n",
    "df=lemm(df)\n",
    "print(\"1/2...\")\n",
    "test=lemm(test)\n",
    "print(\"process ended\")\n",
    "\n"
   ]
  },
  {
   "cell_type": "code",
   "execution_count": 22,
   "id": "93eb70da",
   "metadata": {},
   "outputs": [
    {
     "data": {
      "text/html": [
       "<div>\n",
       "<style scoped>\n",
       "    .dataframe tbody tr th:only-of-type {\n",
       "        vertical-align: middle;\n",
       "    }\n",
       "\n",
       "    .dataframe tbody tr th {\n",
       "        vertical-align: top;\n",
       "    }\n",
       "\n",
       "    .dataframe thead th {\n",
       "        text-align: right;\n",
       "    }\n",
       "</style>\n",
       "<table border=\"1\" class=\"dataframe\">\n",
       "  <thead>\n",
       "    <tr style=\"text-align: right;\">\n",
       "      <th></th>\n",
       "      <th>text</th>\n",
       "      <th>label</th>\n",
       "    </tr>\n",
       "  </thead>\n",
       "  <tbody>\n",
       "    <tr>\n",
       "      <th>0</th>\n",
       "      <td>grew watching loving thunderbird mate school w...</td>\n",
       "      <td>0</td>\n",
       "    </tr>\n",
       "    <tr>\n",
       "      <th>1</th>\n",
       "      <td>put movie dvd player sat coke chip expectation...</td>\n",
       "      <td>0</td>\n",
       "    </tr>\n",
       "    <tr>\n",
       "      <th>2</th>\n",
       "      <td>people know particular time past like feel nee...</td>\n",
       "      <td>0</td>\n",
       "    </tr>\n",
       "    <tr>\n",
       "      <th>3</th>\n",
       "      <td>even though great interest biblical movie bore...</td>\n",
       "      <td>0</td>\n",
       "    </tr>\n",
       "    <tr>\n",
       "      <th>4</th>\n",
       "      <td>im die hard dad army fan nothing ever change g...</td>\n",
       "      <td>1</td>\n",
       "    </tr>\n",
       "  </tbody>\n",
       "</table>\n",
       "</div>"
      ],
      "text/plain": [
       "                                                text  label\n",
       "0  grew watching loving thunderbird mate school w...      0\n",
       "1  put movie dvd player sat coke chip expectation...      0\n",
       "2  people know particular time past like feel nee...      0\n",
       "3  even though great interest biblical movie bore...      0\n",
       "4  im die hard dad army fan nothing ever change g...      1"
      ]
     },
     "execution_count": 22,
     "metadata": {},
     "output_type": "execute_result"
    }
   ],
   "source": [
    "df.head()"
   ]
  },
  {
   "cell_type": "markdown",
   "id": "e1ce4854",
   "metadata": {},
   "source": [
    "Now we need to make some changes for the traing and test data, this changes are basically make the text into numbers\n",
    "so the machine learning can understand it and get trained with it.\n",
    "\n",
    "Vectorization with TF-IDF (Term Frequency-Inverse Document Frequency) is a method in NLP that converts text into numerical form. It weighs words based on their frequency in a document and rarity in the corpus, capturing their significance."
   ]
  },
  {
   "cell_type": "code",
   "execution_count": 23,
   "id": "22efcb1b",
   "metadata": {},
   "outputs": [],
   "source": [
    "tfid = TfidfVectorizer()\n",
    "X_train = tfid.fit_transform(df[\"text\"])\n",
    "X_test = tfid.transform(test[\"text\"])\n",
    "\n",
    "# for the dependant variable is not needed since is already an int64\n",
    "y_train = df[\"label\"]\n",
    "y_test = test[\"label\"]"
   ]
  },
  {
   "cell_type": "markdown",
   "id": "ac0e45e3",
   "metadata": {},
   "source": [
    "A text dataset that had undergone TF-IDF transformation was made less dimensional by using PCA. PCA reduced overfitting, increased data visualization, and increased computational efficiency by identifying significant patterns while removing less important information. This made it possible to train models more quickly, improve interpretability, and create a more condensed representation of the original text data."
   ]
  },
  {
   "cell_type": "code",
   "execution_count": 24,
   "id": "44f071cc",
   "metadata": {},
   "outputs": [
    {
     "name": "stdout",
     "output_type": "stream",
     "text": [
      "Training features matrix is:  (40000, 50)\n",
      "Test features matrix is:  (5000, 50)\n"
     ]
    }
   ],
   "source": [
    "svd = TruncatedSVD(n_components=50)\n",
    "\n",
    "# use fit_transform on our standardized training features\n",
    "X_train_pca = svd.fit_transform(X_train)\n",
    "\n",
    "# use transform on our standardized test features\n",
    "X_test_pca = svd.transform(X_test)\n",
    "\n",
    "# look at the new shape of the transformed matrices\n",
    "print('Training features matrix is: ', X_train_pca.shape)\n",
    "print('Test features matrix is: ', X_test_pca.shape)"
   ]
  },
  {
   "cell_type": "code",
   "execution_count": 54,
   "id": "0f18b83e",
   "metadata": {},
   "outputs": [
    {
     "name": "stdout",
     "output_type": "stream",
     "text": [
      "first 5 predictions:  [1 0 0 1 0]\n",
      "first 5 real inputs:  [0 0 0 1 0]\n",
      "The accuracy of the predictions are:  84.86 %\n"
     ]
    }
   ],
   "source": [
    "model = LogisticRegression()\n",
    "model.fit(X_train_pca,y_train)\n",
    "preds = model.predict(X_test_pca)\n",
    "\n",
    "testD =np.array(y_test)\n",
    "\n",
    "print(\"first 5 predictions: \", preds[:5])\n",
    "print(\"first 5 real inputs: \", np.array_str(testD[:5], max_line_width=np.inf, suppress_small=True))\n",
    "print(\"The accuracy of the predictions are: \", (accuracy_score(preds,y_test) * 100), \"%\" )"
   ]
  },
  {
   "cell_type": "code",
   "execution_count": null,
   "id": "74bfa816",
   "metadata": {},
   "outputs": [],
   "source": []
  }
 ],
 "metadata": {
  "kernelspec": {
   "display_name": "Python 3 (ipykernel)",
   "language": "python",
   "name": "python3"
  },
  "language_info": {
   "codemirror_mode": {
    "name": "ipython",
    "version": 3
   },
   "file_extension": ".py",
   "mimetype": "text/x-python",
   "name": "python",
   "nbconvert_exporter": "python",
   "pygments_lexer": "ipython3",
   "version": "3.11.5"
  }
 },
 "nbformat": 4,
 "nbformat_minor": 5
}
